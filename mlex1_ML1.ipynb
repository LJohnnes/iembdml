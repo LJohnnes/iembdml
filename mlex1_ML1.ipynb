{
 "cells": [
  {
   "cell_type": "code",
   "execution_count": 1,
   "metadata": {
    "collapsed": true
   },
   "outputs": [],
   "source": [
    "import matplotlib.pyplot as plt\n",
    "from sklearn import datasets, svm, metrics\n",
    "import random\n",
    "import numpy as np"
   ]
  },
  {
   "cell_type": "code",
   "execution_count": 3,
   "metadata": {
    "collapsed": false
   },
   "outputs": [
    {
     "name": "stdout",
     "output_type": "stream",
     "text": [
      "Q1: size of the input space\n",
      "Since each image is composed of 8x8 bits of information, each image has 8x8=64 dimensions. Assuming binary: 2^64^64 \n"
     ]
    }
   ],
   "source": [
    "digits = datasets.load_digits()\n",
    "\n",
    "#images and labels listwith matrix 8x8 and number it corresponds\n",
    "images_and_labels = list(zip(digits.images, digits.target))\n",
    "noise=np.zeros([64,1])\n",
    "for i in range(len(noise)):\n",
    "    noise[i]+=random.randint(0,16)\n",
    "noise=np.reshape(noise,[8,8])\n",
    "print(\"Q1: size of the input space\")\n",
    "print(\"Since each image is composed of 8x8 bits of information, each image has 8x8=64 dimensions. Assuming binary: 2^64^64 \")"
   ]
  },
  {
   "cell_type": "code",
   "execution_count": 9,
   "metadata": {
    "collapsed": false
   },
   "outputs": [],
   "source": [
    "#assign zero to a single variable to compare and create empty 8x8 arrays\n",
    "truezero = images_and_labels[0][0]\n",
    "noised1=np.zeros([8,8])\n",
    "noised2=np.zeros([8,8])\n",
    "noised3=np.zeros([8,8])"
   ]
  },
  {
   "cell_type": "code",
   "execution_count": 10,
   "metadata": {
    "collapsed": false
   },
   "outputs": [],
   "source": [
    "#assign zro to 8x8 arrays with different levels of added noise\n",
    "for i in range(len(truezero)):\n",
    "    noised1[i]=truezero[i]+(noise[i]*0.01)\n",
    "    noised2[i]=truezero[i]+(noise[i]*0.2)\n",
    "    noised3[i]=truezero[i]+(noise[i]*0.5)"
   ]
  },
  {
   "cell_type": "code",
   "execution_count": 12,
   "metadata": {
    "collapsed": false
   },
   "outputs": [],
   "source": [
    "#create subplots to compare original zero plus levels of noise\n",
    "plt.subplot(231)\n",
    "plt.axis(\"off\")\n",
    "plt.imshow(noise, cmap=plt.cm.gray_r,interpolation='nearest')\n",
    "plt.subplot(232)\n",
    "plt.axis('off')\n",
    "plt.imshow(truezero, cmap=plt.cm.gray_r,interpolation='nearest')\n",
    "plt.subplot(234)\n",
    "plt.axis('off')\n",
    "plt.imshow(noised1, cmap=plt.cm.gray_r,interpolation='nearest')\n",
    "plt.subplot(235)\n",
    "plt.axis('off')\n",
    "plt.imshow(noised2, cmap=plt.cm.gray_r,interpolation='nearest')\n",
    "plt.subplot(236)\n",
    "plt.axis('off')\n",
    "plt.imshow(noised3, cmap=plt.cm.gray_r,interpolation='nearest')\n",
    "plt.show()"
   ]
  },
  {
   "cell_type": "code",
   "execution_count": null,
   "metadata": {
    "collapsed": true
   },
   "outputs": [],
   "source": []
  }
 ],
 "metadata": {
  "kernelspec": {
   "display_name": "Python 3",
   "language": "python",
   "name": "python3"
  },
  "language_info": {
   "codemirror_mode": {
    "name": "ipython",
    "version": 3
   },
   "file_extension": ".py",
   "mimetype": "text/x-python",
   "name": "python",
   "nbconvert_exporter": "python",
   "pygments_lexer": "ipython3",
   "version": "3.5.1"
  }
 },
 "nbformat": 4,
 "nbformat_minor": 0
}

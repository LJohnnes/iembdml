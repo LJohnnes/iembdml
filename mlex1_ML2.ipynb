{
 "cells": [
  {
   "cell_type": "code",
   "execution_count": 2,
   "metadata": {
    "collapsed": true
   },
   "outputs": [],
   "source": [
    "import matplotlib.pyplot as plt\n",
    "from sklearn import datasets, svm, metrics\n",
    "from sklearn import linear_model"
   ]
  },
  {
   "cell_type": "code",
   "execution_count": 3,
   "metadata": {
    "collapsed": true
   },
   "outputs": [],
   "source": [
    "digits = datasets.load_digits()\n",
    "images_and_labels = list(zip(digits.images, digits.target))\n",
    "lista=list(range(10))"
   ]
  },
  {
   "cell_type": "code",
   "execution_count": 4,
   "metadata": {
    "collapsed": false
   },
   "outputs": [
    {
     "name": "stdout",
     "output_type": "stream",
     "text": [
      "Number of iterations, value, guess and decision function\n",
      "1 [8] [6] [[-30724. -43116. -13484. -14012. -26120. -25420.   5468. -28864.  -6536.\n",
      "  -22016.]]\n",
      "2 [8] [8] [[-31800. -27112. -20408. -16764. -24408. -25608. -16184. -45792.  12964.\n",
      "   -5940.]]\n",
      "3 [8] [6] [[-27076. -34344. -19180. -30508. -27304. -37152.  -3644. -36492.  -3668.\n",
      "  -23316.]]\n",
      "4 [8] [8] [[-31996. -35112. -24668. -36988. -18324. -37312. -13076. -48120.   7876.\n",
      "  -28144.]]\n",
      "5 [8] [8] [[-40956. -32604. -24084. -34036. -26456. -33652. -22348. -54528.  17480.\n",
      "  -19704.]]\n",
      "6 [8] [8] [[-33860. -34504. -21628. -36340. -26324. -29436. -16584. -54060.    472.\n",
      "  -23596.]]\n",
      "7 [8] [8] [[-35392. -38792. -25280. -42312. -36532. -34656. -20096. -51424.  -3620.\n",
      "  -21908.]]\n",
      "8 [8] [8] [[-35392. -29908. -25280. -36756. -35164. -31160. -21852. -60760.   8240.\n",
      "  -26092.]]\n",
      "9 [8] [8] [[-35392. -41424. -25280. -30560. -29484. -45520. -21032. -62924.  -7000.\n",
      "  -16424.]]\n",
      "10 [8] [8] [[-35392. -47604. -25280. -33192. -32716. -51708. -10396. -60336.  -1832.\n",
      "  -23008.]]\n"
     ]
    }
   ],
   "source": [
    "print(\"Number of iterations, value, guess and decision function\")\n",
    "for i in range(len(lista)):\n",
    "    clf = linear_model.Perceptron(n_iter=i+1,eta0=4)\n",
    "    clf.fit(digits.data[:-1], digits.target[:-1])\n",
    "    print(i+1,digits.target[-1:],clf.predict(digits.data[-1:]),clf.decision_function(digits.data[-1:]))"
   ]
  },
  {
   "cell_type": "code",
   "execution_count": 6,
   "metadata": {
    "collapsed": false
   },
   "outputs": [
    {
     "name": "stdout",
     "output_type": "stream",
     "text": [
      "Number of iterations, value, guess and decision function\n",
      "1 [8] [6] [[ -7681. -10779.  -3371.  -3503.  -6530.  -6355.   1367.  -7216.  -1634.\n",
      "   -5504.]]\n",
      "2 [8] [8] [[ -7950.  -6778.  -5102.  -4191.  -6102.  -6402.  -4046. -11448.   3241.\n",
      "   -1485.]]\n",
      "3 [8] [6] [[-6769. -8586. -4795. -7627. -6826. -9288.  -911. -9123.  -917. -5829.]]\n",
      "4 [8] [8] [[ -7999.  -8778.  -6167.  -9247.  -4581.  -9328.  -3269. -12030.   1969.\n",
      "   -7036.]]\n",
      "5 [8] [8] [[-10239.  -8151.  -6021.  -8509.  -6614.  -8413.  -5587. -13632.   4370.\n",
      "   -4926.]]\n",
      "6 [8] [8] [[ -8465.  -8626.  -5407.  -9085.  -6581.  -7359.  -4146. -13515.    118.\n",
      "   -5899.]]\n",
      "7 [8] [8] [[ -8848.  -9698.  -6320. -10578.  -9133.  -8664.  -5024. -12856.   -905.\n",
      "   -5477.]]\n",
      "8 [8] [8] [[ -8848.  -7477.  -6320.  -9189.  -8791.  -7790.  -5463. -15190.   2060.\n",
      "   -6523.]]\n",
      "9 [8] [8] [[ -8848. -10356.  -6320.  -7640.  -7371. -11380.  -5258. -15731.  -1750.\n",
      "   -4106.]]\n",
      "10 [8] [8] [[ -8848. -11901.  -6320.  -8298.  -8179. -12927.  -2599. -15084.   -458.\n",
      "   -5752.]]\n"
     ]
    }
   ],
   "source": [
    "print(\"Number of iterations, value, guess and decision function\")\n",
    "for i in range(len(lista)):\n",
    "    clf = linear_model.Perceptron(n_iter=i+1,eta0=1)\n",
    "    clf.fit(digits.data[:-1], digits.target[:-1])\n",
    "    print(i+1,digits.target[-1:],clf.predict(digits.data[-1:]),clf.decision_function(digits.data[-1:]))"
   ]
  },
  {
   "cell_type": "code",
   "execution_count": null,
   "metadata": {
    "collapsed": true
   },
   "outputs": [],
   "source": []
  }
 ],
 "metadata": {
  "kernelspec": {
   "display_name": "Python 3",
   "language": "python",
   "name": "python3"
  },
  "language_info": {
   "codemirror_mode": {
    "name": "ipython",
    "version": 3
   },
   "file_extension": ".py",
   "mimetype": "text/x-python",
   "name": "python",
   "nbconvert_exporter": "python",
   "pygments_lexer": "ipython3",
   "version": "3.5.1"
  }
 },
 "nbformat": 4,
 "nbformat_minor": 0
}
